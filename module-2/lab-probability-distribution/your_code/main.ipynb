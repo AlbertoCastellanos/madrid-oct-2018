{
 "cells": [
  {
   "cell_type": "markdown",
   "metadata": {},
   "source": [
    "# Before your start:\n",
    "- Read the README.md file\n",
    "- Comment as much as you can and use the resources (README.md file)\n",
    "- Happy learning!"
   ]
  },
  {
   "cell_type": "code",
   "execution_count": 1,
   "metadata": {},
   "outputs": [],
   "source": [
    "# Import your libraries\n",
    "import random\n",
    "import numpy as np\n",
    "import matplotlib.pyplot as plt\n",
    "import scipy\n",
    "from scipy.stats import binom\n"
   ]
  },
  {
   "cell_type": "markdown",
   "metadata": {},
   "source": [
    "# Challenge 1 - Generate and Plot Normal Distributions"
   ]
  },
  {
   "cell_type": "markdown",
   "metadata": {},
   "source": [
    "#### Step 1: Generate samples and test normal distribution\n",
    "\n",
    "Use mean=50, standard_deviation=5, and sample_size=[10, 50, 500, 5000] to generate 4 random samples that are normally distributed. Test your normal distributions with [`scipy.stats.normaltest`](https://docs.scipy.org/doc/scipy/reference/generated/scipy.stats.normaltest.html).\n",
    "\n",
    "\n",
    "*Hint: Read the documentation for `scipy.stats.normaltest`. The function does not simply return Yes or No for whether your data is normal distribution. It returns the likelihood.*"
   ]
  },
  {
   "cell_type": "code",
   "execution_count": 2,
   "metadata": {},
   "outputs": [],
   "source": [
    "\"\"\"\n",
    "The function np.random.normal is used to calculate an array normally distributted \n",
    "given the mean, the standard deviation and the size of the array\"\n",
    "\"\"\"\n",
    "a=np.random.normal(50,5,10)\n",
    "b=np.random.normal(50,5,50)\n",
    "c=np.random.normal(50,5,500)\n",
    "d=np.random.normal(50,5,5000)"
   ]
  },
  {
   "cell_type": "code",
   "execution_count": 3,
   "metadata": {},
   "outputs": [
    {
     "name": "stdout",
     "output_type": "stream",
     "text": [
      "(0.6804755266018772, 0.711601110018247) \n",
      " (4.4056370993279685, 0.11049129386680787) \n",
      " (2.0375055657640804, 0.3610449609335741) \n",
      " (0.5507543847478337, 0.7592856724395702)\n"
     ]
    },
    {
     "name": "stderr",
     "output_type": "stream",
     "text": [
      "/home/albertocastellanos/.local/lib/python3.6/site-packages/scipy/stats/stats.py:1394: UserWarning: kurtosistest only valid for n>=20 ... continuing anyway, n=10\n",
      "  \"anyway, n=%i\" % int(n))\n"
     ]
    }
   ],
   "source": [
    "'''\n",
    "We now use the normaltest from scipy to check if our normal distributions are \n",
    "really normal.\n",
    "'''\n",
    "\n",
    "print(\n",
    "scipy.stats.normaltest(a)[:],\"\\n\",\n",
    "scipy.stats.normaltest(b)[:],\"\\n\",\n",
    "scipy.stats.normaltest(c)[:],\"\\n\",\n",
    "scipy.stats.normaltest(d)[:])"
   ]
  },
  {
   "cell_type": "markdown",
   "metadata": {},
   "source": [
    "#### Interpret the normaltest results and make your observations."
   ]
  },
  {
   "cell_type": "code",
   "execution_count": 4,
   "metadata": {},
   "outputs": [
    {
     "data": {
      "text/plain": [
       "[True, True, True, True]"
      ]
     },
     "execution_count": 4,
     "metadata": {},
     "output_type": "execute_result"
    }
   ],
   "source": [
    "# Explain the test results here\n",
    "'''\n",
    "The null hypothesis is whether the arrays are normally distributed.\n",
    "We assume that \n",
    "We assume that our alpha is 0.05, this means that if p is under 0,05 we will reject \n",
    "the null hypothesis, meaning that the arrays are not normally distributed. \n",
    "The higher the p the more probably our array is normally distributed.\n",
    "'''\n",
    "\n",
    "alpha=0.05\n",
    "[True for i in [a,b,c,d] if i[1]>alpha]"
   ]
  },
  {
   "cell_type": "code",
   "execution_count": 5,
   "metadata": {},
   "outputs": [
    {
     "data": {
      "text/plain": [
       "\"\\nWe have received True for all samples, that means that we can't reject the null \\nhypothesis in any of the cases. We can assume our samples are normally distributed\\n\""
      ]
     },
     "execution_count": 5,
     "metadata": {},
     "output_type": "execute_result"
    }
   ],
   "source": [
    "'''\n",
    "We have received True for all samples, that means that we can't reject the null \n",
    "hypothesis in any of the cases. We can assume our samples are normally distributed\n",
    "'''"
   ]
  },
  {
   "cell_type": "markdown",
   "metadata": {},
   "source": [
    "#### Step 2: Plot normal distributions\n",
    "\n",
    "Use matplotlib subplots to plot a histogram of each sample. \n",
    "\n",
    "*Hints:*\n",
    "- Use subplots to compare your figures side by side.\n",
    "\n",
    "- Your output should look like below:\n",
    "\n",
    "![normal distributions with different sample sizes](ch-1.png)"
   ]
  },
  {
   "cell_type": "code",
   "execution_count": 6,
   "metadata": {},
   "outputs": [
    {
     "data": {
      "text/plain": [
       "Text(0.5, 0.98, 'Normal Distributions')"
      ]
     },
     "execution_count": 6,
     "metadata": {},
     "output_type": "execute_result"
    },
    {
     "data": {
      "image/png": "[encoded data removed]",
      "text/plain": [
       "<Figure size 1080x360 with 4 Axes>"
      ]
     },
     "metadata": {
      "needs_background": "light"
     },
     "output_type": "display_data"
    }
   ],
   "source": [
    "\"\"\"\n",
    " Subplots is used to generate a figure with 4 cells, each cell will represent the\n",
    " histogram of each normal distribuition we generate\n",
    "\"\"\"\n",
    "\n",
    "fig,ax=plt.subplots(1,4, figsize=(15,5))\n",
    "ax[0].hist(a,color=\"r\",bins=50)\n",
    "ax[1].hist(b,color=\"g\",bins=50)\n",
    "ax[2].hist(c,color=\"b\",bins=50)\n",
    "ax[3].hist(d,color=\"y\",bins=50)\n",
    "ax[0].set_title(\"n=10\")\n",
    "ax[1].set_title(\"n=50\")\n",
    "ax[2].set_title(\"n=500\")\n",
    "ax[3].set_title(\"n=5000\")\n",
    "fig.suptitle(\"Normal Distributions\")\n"
   ]
  },
  {
   "cell_type": "markdown",
   "metadata": {},
   "source": [
    "#### Compare the distributions above. What do you observe? Explain with the Central Limit Theorem."
   ]
  },
  {
   "cell_type": "code",
   "execution_count": 11,
   "metadata": {},
   "outputs": [
    {
     "data": {
      "text/plain": [
       "'\\nThe above samples do not have any relationship with the Central Limit Theorem since the \\ndistributions we observe are not sample distributions of the mean but simply sample \\ndistributions based on samples obtained with a method that returns arrays composed of\\nrandom numbers normally distributed. With this logic noted, it is obvious to think that the larger number of\\nitems in the array the more accurate its normal distribution will be.\\n'"
      ]
     },
     "execution_count": 11,
     "metadata": {},
     "output_type": "execute_result"
    }
   ],
   "source": [
    "'''\n",
    "The central limit theorem says that given a number of random samples from a\n",
    "population, the distribution of means of these samples will define a normal \n",
    "distribution. The larger number of samples we take, the more accurate the normal \n",
    "is, it also says that the larger the samples are the more accurate the normal \n",
    "distribution. The mean in the sampling distribution of the mean and the mean in the\n",
    "parent distribution will be the same with an infinite number of samples.\n",
    "'''\n",
    "\n",
    "'''\n",
    "The above samples do not have any relationship with the Central Limit Theorem since the \n",
    "distributions we observe are not sample distributions of the mean but simply sample \n",
    "distributions based on samples obtained with a method that returns arrays composed of\n",
    "random numbers normally distributed. With this logic noted, it is obvious to think that the larger number of\n",
    "items in the array the more accurate its normal distribution will be.\n",
    "'''\n"
   ]
  },
  {
   "cell_type": "markdown",
   "metadata": {},
   "source": [
    "# Challenge 2 - Plot Probability Mass Function (PMF)"
   ]
  },
  {
   "cell_type": "markdown",
   "metadata": {},
   "source": [
    "#### Background knowledge\n",
    "\n",
    "[PMF](https://en.wikipedia.org/wiki/Probability_mass_function) shows the probability distribution of a **discrete random variable**. A [discrete random variable](https://en.wikipedia.org/wiki/Random_variable#Discrete_random_variable) has random numeric values that are not continuous. For example, the number of people in a household can only be integers but not floats. Therefore the number of people in a household is a discrete variable.\n",
    "\n",
    "#### Question: We assume that the probability of clicking an Ad in a Youtube video is 0.15. We have a sample of 5 people who wathched the video and we want to plot the PMF for a binomial distribution.\n",
    "\n",
    "*Hint: use binom from `scipy.stats.binom`. Your output should look like below:*\n",
    "\n",
    "![binom 10](ch-2.png)"
   ]
  },
  {
   "cell_type": "code",
   "execution_count": 8,
   "metadata": {},
   "outputs": [
    {
     "data": {
      "text/plain": [
       "[<matplotlib.lines.Line2D at 0x7fdd7ed57c50>]"
      ]
     },
     "execution_count": 8,
     "metadata": {},
     "output_type": "execute_result"
    },
    {
     "data": {
      "image/png": "[encoded data removed]",
      "text/plain": [
       "<Figure size 432x288 with 1 Axes>"
      ]
     },
     "metadata": {
      "needs_background": "light"
     },
     "output_type": "display_data"
    }
   ],
   "source": [
    "# Your code here\n",
    "n=5#This is the maximum number of clicks\n",
    "p=0.15#This is the probability of a user cliking the Ad\n",
    "k=range(0,n+1)#This is the range of possible total amounts of clicks by all users\n",
    "binom=scipy.stats.binom.pmf(k,n,p)#This method calculates the binom\n",
    "\n",
    "plt.plot(k,binom)"
   ]
  },
  {
   "cell_type": "markdown",
   "metadata": {},
   "source": [
    "#### Explain what you observe from the plot above"
   ]
  },
  {
   "cell_type": "code",
   "execution_count": 10,
   "metadata": {},
   "outputs": [
    {
     "data": {
      "text/plain": [
       "'\\nWe can observe that the probability of getting more users clicking the add progressively decreases with the \\namount of clicks expected. The plot shows that the highest probability is in having no users clicking the add\\nand the minimum probability is in having the 5 users clicking the add. Being the curve joining both steps \\nconsiderably step, so probability gets intensively reduced with higher amounts of cliks expected.\\n'"
      ]
     },
     "execution_count": 10,
     "metadata": {},
     "output_type": "execute_result"
    }
   ],
   "source": [
    "'''\n",
    "We can observe that the probability of getting more users clicking the add progressively decreases with the \n",
    "amount of clicks expected. The plot shows that the highest probability is in having no users clicking the add\n",
    "and the minimum probability is in having the 5 users clicking the add. Being the curve joining both steps \n",
    "considerably step, so probability gets intensively reduced with higher amounts of cliks expected.\n",
    "'''"
   ]
  },
  {
   "cell_type": "markdown",
   "metadata": {},
   "source": [
    "#### Now plot PMP with 50, 500, and 5000 visitors."
   ]
  },
  {
   "cell_type": "code",
   "execution_count": 12,
   "metadata": {},
   "outputs": [
    {
     "data": {
      "image/png": "[encoded data removed]",
      "text/plain": [
       "<Figure size 1080x360 with 3 Axes>"
      ]
     },
     "metadata": {
      "needs_background": "light"
     },
     "output_type": "display_data"
    }
   ],
   "source": [
    "# Yon=5\n",
    "inputs=[50,500,5000]\n",
    "fig,ax=plt.subplots(1,len(inputs), figsize=(15,5))\n",
    "for i in range(len(inputs)):\n",
    "    n=inputs[i]\n",
    "    p=0.15\n",
    "    k=range(0,n+1)\n",
    "    binom=scipy.stats.binom.pmf(k,n,p)\n",
    "\n",
    "    ax[i].plot(k,binom)"
   ]
  },
  {
   "cell_type": "markdown",
   "metadata": {},
   "source": [
    "#### What did you notice from the distribution plots? Comment your findings."
   ]
  },
  {
   "cell_type": "code",
   "execution_count": null,
   "metadata": {},
   "outputs": [],
   "source": [
    "'''\n",
    "It is observed that since we are dealing with groups composed of many individuals, all plots show a PMF line\n",
    "that starts at 0 (or at least, fairly close to 0), which makes sense considering that it will be quite \n",
    "difficult to have nobody clicking on the Ad and also end at probability 0ish.\n",
    "\n",
    "In the three plot we observe a sudden very intense increase on the probability followed by a sudden very \n",
    "intense decrease that tends to occupy a smaller proportion in the range of clicks the larger the sample is.\n",
    "This peak in the probability happens around the 1/10 of the range of click, progessively moving to the left \n",
    "whit larger samples.\n",
    "\n",
    "'''\n"
   ]
  },
  {
   "cell_type": "markdown",
   "metadata": {},
   "source": [
    "# Challenge 3"
   ]
  },
  {
   "cell_type": "markdown",
   "metadata": {},
   "source": [
    "#### Reaserch the Poisson distribution. Write about your own understanding of the Poisson distribution."
   ]
  },
  {
   "cell_type": "code",
   "execution_count": null,
   "metadata": {},
   "outputs": [],
   "source": [
    "'''\n",
    "The poisson distribution is used to represent discrete variables and their probability\n",
    "during a range of time via a frecuency distribution. Poisson distribution are specially\n",
    "useful with rare cases\n",
    "'''"
   ]
  },
  {
   "cell_type": "markdown",
   "metadata": {},
   "source": [
    "#### A website has an average of 300 visits per day. What is the probability of getting 320 visitors in a day?\n",
    "\n",
    "*Hint: use `scipy.stats.poisson`*"
   ]
  },
  {
   "cell_type": "code",
   "execution_count": 13,
   "metadata": {},
   "outputs": [
    {
     "name": "stdout",
     "output_type": "stream",
     "text": [
      "0.01\n"
     ]
    }
   ],
   "source": [
    "# Your code here\n",
    "mean=300\n",
    "size=1000#This is chosen with own criteria\n",
    "poisson=scipy.stats.poisson.rvs(mean, size=size)\n",
    "\n",
    "pv=320\n",
    "\n",
    "p=(sum(poisson==320))/len(poisson)\n",
    "print(p)"
   ]
  },
  {
   "cell_type": "markdown",
   "metadata": {},
   "source": [
    "#### What is the probability of getting 60 visits?"
   ]
  },
  {
   "cell_type": "code",
   "execution_count": 15,
   "metadata": {},
   "outputs": [
    {
     "name": "stdout",
     "output_type": "stream",
     "text": [
      "0.0\n"
     ]
    }
   ],
   "source": [
    "mean=300\n",
    "size=1000#This is chosen with own criteria\n",
    "poisson=scipy.stats.poisson.rvs(mean, size=size)\n",
    "\n",
    "pv=60\n",
    "\n",
    "p=(sum(poisson==pv))/len(poisson)\n",
    "print(p)"
   ]
  },
  {
   "cell_type": "markdown",
   "metadata": {},
   "source": [
    "#### Plot the distribution of the probability for getting 0-1000 visits.\n",
    "\n",
    "*Hints:* \n",
    "\n",
    "- Create a list to store the Poisson distribution probabilities for n=0 to 1000. Then plot the probabilities.\n",
    "\n",
    "- Your plot should look like below:\n",
    "\n",
    "![poisson distribution](ch-3.png)"
   ]
  },
  {
   "cell_type": "code",
   "execution_count": 25,
   "metadata": {},
   "outputs": [
    {
     "data": {
      "text/plain": [
       "[<matplotlib.lines.Line2D at 0x7fdd7e91c710>]"
      ]
     },
     "execution_count": 25,
     "metadata": {},
     "output_type": "execute_result"
    },
    {
     "data": {
      "image/png": "[encoded data removed]",
      "text/plain": [
       "<Figure size 432x288 with 1 Axes>"
      ]
     },
     "metadata": {
      "needs_background": "light"
     },
     "output_type": "display_data"
    }
   ],
   "source": [
    "listp=[]\n",
    "for i in range(1001):\n",
    "    mean=300\n",
    "    size=1000#This is chosen with own criteria\n",
    "    poisson=scipy.stats.poisson.rvs(mean, size=size)\n",
    "\n",
    "    pv=i\n",
    "\n",
    "    p=(sum(poisson==pv))/len(poisson)\n",
    "    listp.append(p)\n",
    "#print(listp)\n",
    "plt.plot(range(1001),listp)"
   ]
  },
  {
   "cell_type": "code",
   "execution_count": null,
   "metadata": {},
   "outputs": [],
   "source": [
    "#Not really sure why my plot is so ugly.."
   ]
  }
 ],
 "metadata": {
  "anaconda-cloud": {},
  "kernelspec": {
   "display_name": "Python 3",
   "language": "python",
   "name": "python3"
  },
  "language_info": {
   "codemirror_mode": {
    "name": "ipython",
    "version": 3
   },
   "file_extension": ".py",
   "mimetype": "text/x-python",
   "name": "python",
   "nbconvert_exporter": "python",
   "pygments_lexer": "ipython3",
   "version": "3.6.6"
  }
 },
 "nbformat": 4,
 "nbformat_minor": 1
}
