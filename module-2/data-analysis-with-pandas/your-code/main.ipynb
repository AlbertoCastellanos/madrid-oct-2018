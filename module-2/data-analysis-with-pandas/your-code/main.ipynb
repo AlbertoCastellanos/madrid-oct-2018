{
 "cells": [
  {
   "cell_type": "markdown",
   "metadata": {},
   "source": [
    "# DATA ANALYSIS WITH PANDAS"
   ]
  },
  {
   "cell_type": "markdown",
   "metadata": {},
   "source": [
    "Importing necessary packages"
   ]
  },
  {
   "cell_type": "code",
   "execution_count": 1,
   "metadata": {},
   "outputs": [],
   "source": [
    "import pandas as pd\n",
    "import numpy as np\n",
    "import matplotlib.pyplot as plt"
   ]
  },
  {
   "cell_type": "markdown",
   "metadata": {},
   "source": [
    "## Finding a data set to work with"
   ]
  },
  {
   "cell_type": "markdown",
   "metadata": {},
   "source": [
    "The chosen data set has been downloaded from kaggle.com. Its reference website is \"https://www.kaggle.com/new-york-state/nys-forest-ranger-wildland-fire-reporting\".\n",
    "\n",
    "Such data set contains information about wildland fires recorded after 2007 under the state of New York."
   ]
  },
  {
   "cell_type": "code",
   "execution_count": 2,
   "metadata": {
    "scrolled": true
   },
   "outputs": [],
   "source": [
    "fireDf=pd.read_csv(\"./firedata.csv\")"
   ]
  },
  {
   "cell_type": "code",
   "execution_count": 3,
   "metadata": {},
   "outputs": [
    {
     "data": {
      "text/html": [
       "<div>\n",
       "<style scoped>\n",
       "    .dataframe tbody tr th:only-of-type {\n",
       "        vertical-align: middle;\n",
       "    }\n",
       "\n",
       "    .dataframe tbody tr th {\n",
       "        vertical-align: top;\n",
       "    }\n",
       "\n",
       "    .dataframe thead th {\n",
       "        text-align: right;\n",
       "    }\n",
       "</style>\n",
       "<table border=\"1\" class=\"dataframe\">\n",
       "  <thead>\n",
       "    <tr style=\"text-align: right;\">\n",
       "      <th></th>\n",
       "      <th>Fire Number</th>\n",
       "      <th>Incident Name</th>\n",
       "      <th>Fire Start Date</th>\n",
       "      <th>Initial Report Date</th>\n",
       "      <th>Fire Out Date</th>\n",
       "      <th>Region</th>\n",
       "      <th>Zone</th>\n",
       "      <th>County</th>\n",
       "      <th>Municipality</th>\n",
       "      <th>Cause</th>\n",
       "      <th>...</th>\n",
       "      <th>Fatalities</th>\n",
       "      <th>Injuries</th>\n",
       "      <th>Homes Lost</th>\n",
       "      <th>Homes Threatened</th>\n",
       "      <th>Other Structures Lost</th>\n",
       "      <th>Other Structures Threatened</th>\n",
       "      <th>Reporting Ranger</th>\n",
       "      <th>Fire Report Method</th>\n",
       "      <th>Railroad Name</th>\n",
       "      <th>Location 1</th>\n",
       "    </tr>\n",
       "  </thead>\n",
       "  <tbody>\n",
       "    <tr>\n",
       "      <th>0</th>\n",
       "      <td>NYS-2008-0001</td>\n",
       "      <td>OBPP Powerline Surge</td>\n",
       "      <td>2008-01-21T00:00:00</td>\n",
       "      <td>2008-01-21T00:00:00</td>\n",
       "      <td>2008-01-21T00:00:00</td>\n",
       "      <td>1</td>\n",
       "      <td>1A</td>\n",
       "      <td>SUFFOLK</td>\n",
       "      <td>BABYLON</td>\n",
       "      <td>Equipment</td>\n",
       "      <td>...</td>\n",
       "      <td>0</td>\n",
       "      <td>0</td>\n",
       "      <td>0</td>\n",
       "      <td>0</td>\n",
       "      <td>0</td>\n",
       "      <td>0</td>\n",
       "      <td>Byrnes,Timothy</td>\n",
       "      <td>Fire Department</td>\n",
       "      <td>NaN</td>\n",
       "      <td>{'longitude': '-73.29247', 'needs_recoding': F...</td>\n",
       "    </tr>\n",
       "    <tr>\n",
       "      <th>1</th>\n",
       "      <td>NYS-2008-0002</td>\n",
       "      <td>Otis Pike @ Dog Pond Line Rd</td>\n",
       "      <td>2008-03-18T00:00:00</td>\n",
       "      <td>2008-03-18T00:00:00</td>\n",
       "      <td>2008-03-18T00:00:00</td>\n",
       "      <td>1</td>\n",
       "      <td>1A</td>\n",
       "      <td>SUFFOLK</td>\n",
       "      <td>RIVERHEAD</td>\n",
       "      <td>Prescribed Fire</td>\n",
       "      <td>...</td>\n",
       "      <td>0</td>\n",
       "      <td>0</td>\n",
       "      <td>0</td>\n",
       "      <td>0</td>\n",
       "      <td>0</td>\n",
       "      <td>0</td>\n",
       "      <td>Byrnes,Timothy</td>\n",
       "      <td>Supervisor</td>\n",
       "      <td>NaN</td>\n",
       "      <td>{'longitude': '-72.802', 'needs_recoding': Fal...</td>\n",
       "    </tr>\n",
       "    <tr>\n",
       "      <th>2</th>\n",
       "      <td>NYS-2008-0003</td>\n",
       "      <td>Otis Pike @ Linus Dog Pond</td>\n",
       "      <td>2008-03-18T00:00:00</td>\n",
       "      <td>2008-03-18T00:00:00</td>\n",
       "      <td>2008-03-18T00:00:00</td>\n",
       "      <td>1</td>\n",
       "      <td>1A</td>\n",
       "      <td>SUFFOLK</td>\n",
       "      <td>RIVERHEAD</td>\n",
       "      <td>Prescribed Fire</td>\n",
       "      <td>...</td>\n",
       "      <td>0</td>\n",
       "      <td>0</td>\n",
       "      <td>0</td>\n",
       "      <td>0</td>\n",
       "      <td>0</td>\n",
       "      <td>0</td>\n",
       "      <td>Byrnes,Timothy</td>\n",
       "      <td>Supervisor</td>\n",
       "      <td>NaN</td>\n",
       "      <td>{'longitude': '-72.818', 'needs_recoding': Fal...</td>\n",
       "    </tr>\n",
       "    <tr>\n",
       "      <th>3</th>\n",
       "      <td>NYS-2008-0004</td>\n",
       "      <td>Quadt Fire</td>\n",
       "      <td>2008-03-22T00:00:00</td>\n",
       "      <td>2008-03-22T00:00:00</td>\n",
       "      <td>2008-03-22T00:00:00</td>\n",
       "      <td>4</td>\n",
       "      <td>4B</td>\n",
       "      <td>SCHOHARIE</td>\n",
       "      <td>SCHOHARIE</td>\n",
       "      <td>Miscellaneous</td>\n",
       "      <td>...</td>\n",
       "      <td>0</td>\n",
       "      <td>0</td>\n",
       "      <td>0</td>\n",
       "      <td>0</td>\n",
       "      <td>0</td>\n",
       "      <td>0</td>\n",
       "      <td>Henry,William</td>\n",
       "      <td>911 Dispatch</td>\n",
       "      <td>NaN</td>\n",
       "      <td>{'longitude': '-74.32', 'needs_recoding': Fals...</td>\n",
       "    </tr>\n",
       "    <tr>\n",
       "      <th>4</th>\n",
       "      <td>NYS-2008-0005</td>\n",
       "      <td>Prestons Pond</td>\n",
       "      <td>2008-03-22T00:00:00</td>\n",
       "      <td>2008-03-22T00:00:00</td>\n",
       "      <td>2008-03-22T00:00:00</td>\n",
       "      <td>1</td>\n",
       "      <td>1A</td>\n",
       "      <td>SUFFOLK</td>\n",
       "      <td>RIVERHEAD</td>\n",
       "      <td>Prescribed Fire</td>\n",
       "      <td>...</td>\n",
       "      <td>0</td>\n",
       "      <td>0</td>\n",
       "      <td>0</td>\n",
       "      <td>0</td>\n",
       "      <td>0</td>\n",
       "      <td>0</td>\n",
       "      <td>Byrnes,Timothy</td>\n",
       "      <td>Supervisor</td>\n",
       "      <td>NaN</td>\n",
       "      <td>{'longitude': '-72.82048', 'needs_recoding': F...</td>\n",
       "    </tr>\n",
       "  </tbody>\n",
       "</table>\n",
       "<p>5 rows × 28 columns</p>\n",
       "</div>"
      ],
      "text/plain": [
       "     Fire Number                 Incident Name      Fire Start Date  \\\n",
       "0  NYS-2008-0001         OBPP Powerline Surge   2008-01-21T00:00:00   \n",
       "1  NYS-2008-0002  Otis Pike @ Dog Pond Line Rd  2008-03-18T00:00:00   \n",
       "2  NYS-2008-0003    Otis Pike @ Linus Dog Pond  2008-03-18T00:00:00   \n",
       "3  NYS-2008-0004                    Quadt Fire  2008-03-22T00:00:00   \n",
       "4  NYS-2008-0005                 Prestons Pond  2008-03-22T00:00:00   \n",
       "\n",
       "   Initial Report Date        Fire Out Date  Region Zone     County  \\\n",
       "0  2008-01-21T00:00:00  2008-01-21T00:00:00       1   1A    SUFFOLK   \n",
       "1  2008-03-18T00:00:00  2008-03-18T00:00:00       1   1A    SUFFOLK   \n",
       "2  2008-03-18T00:00:00  2008-03-18T00:00:00       1   1A    SUFFOLK   \n",
       "3  2008-03-22T00:00:00  2008-03-22T00:00:00       4   4B  SCHOHARIE   \n",
       "4  2008-03-22T00:00:00  2008-03-22T00:00:00       1   1A    SUFFOLK   \n",
       "\n",
       "  Municipality            Cause  \\\n",
       "0      BABYLON        Equipment   \n",
       "1    RIVERHEAD  Prescribed Fire   \n",
       "2    RIVERHEAD  Prescribed Fire   \n",
       "3    SCHOHARIE    Miscellaneous   \n",
       "4    RIVERHEAD  Prescribed Fire   \n",
       "\n",
       "                         ...                         Fatalities  Injuries  \\\n",
       "0                        ...                                  0         0   \n",
       "1                        ...                                  0         0   \n",
       "2                        ...                                  0         0   \n",
       "3                        ...                                  0         0   \n",
       "4                        ...                                  0         0   \n",
       "\n",
       "   Homes Lost  Homes Threatened  Other Structures Lost  \\\n",
       "0           0                 0                      0   \n",
       "1           0                 0                      0   \n",
       "2           0                 0                      0   \n",
       "3           0                 0                      0   \n",
       "4           0                 0                      0   \n",
       "\n",
       "  Other Structures Threatened Reporting Ranger  Fire Report Method  \\\n",
       "0                           0  Byrnes,Timothy      Fire Department   \n",
       "1                           0  Byrnes,Timothy           Supervisor   \n",
       "2                           0  Byrnes,Timothy           Supervisor   \n",
       "3                           0   Henry,William         911 Dispatch   \n",
       "4                           0  Byrnes,Timothy           Supervisor   \n",
       "\n",
       "   Railroad Name                                         Location 1  \n",
       "0            NaN  {'longitude': '-73.29247', 'needs_recoding': F...  \n",
       "1            NaN  {'longitude': '-72.802', 'needs_recoding': Fal...  \n",
       "2            NaN  {'longitude': '-72.818', 'needs_recoding': Fal...  \n",
       "3            NaN  {'longitude': '-74.32', 'needs_recoding': Fals...  \n",
       "4            NaN  {'longitude': '-72.82048', 'needs_recoding': F...  \n",
       "\n",
       "[5 rows x 28 columns]"
      ]
     },
     "execution_count": 3,
     "metadata": {},
     "output_type": "execute_result"
    }
   ],
   "source": [
    "fireDf.head()"
   ]
  },
  {
   "cell_type": "markdown",
   "metadata": {},
   "source": [
    "## Cleaning the data set before performing the analysis"
   ]
  },
  {
   "cell_type": "markdown",
   "metadata": {},
   "source": [
    "Some of the columns are not really of interest for our analysis so we can drop them."
   ]
  },
  {
   "cell_type": "code",
   "execution_count": 4,
   "metadata": {},
   "outputs": [
    {
     "data": {
      "text/plain": [
       "Index(['Fire Number', 'Incident Name', 'Fire Start Date',\n",
       "       'Initial Report Date', 'Fire Out Date', 'Region', 'Zone', 'County',\n",
       "       'Municipality', 'Cause', 'NFFL Fuel Model', 'Complex Type', 'Acreage',\n",
       "       'Latitude', 'Longitude', 'Ownership', 'State Land Unit Name', 'Total',\n",
       "       'Fatalities', 'Injuries', 'Homes Lost', 'Homes Threatened',\n",
       "       'Other Structures Lost', 'Other Structures Threatened',\n",
       "       'Reporting Ranger', 'Fire Report Method', 'Railroad Name',\n",
       "       'Location 1'],\n",
       "      dtype='object')"
      ]
     },
     "execution_count": 4,
     "metadata": {},
     "output_type": "execute_result"
    }
   ],
   "source": [
    "fireDf.columns"
   ]
  },
  {
   "cell_type": "code",
   "execution_count": 5,
   "metadata": {},
   "outputs": [],
   "source": [
    "cleanFireDf=fireDf.drop(columns=['Fire Number', 'Incident Name', 'Region', 'Zone', 'Initial Report Date','Municipality','Latitude', 'Longitude','State Land Unit Name', 'Total', 'Reporting Ranger','Fire Report Method', 'Railroad Name',\n",
    "       'Location 1'])"
   ]
  },
  {
   "cell_type": "markdown",
   "metadata": {},
   "source": [
    "We also need to identify null values from the remaining data"
   ]
  },
  {
   "cell_type": "code",
   "execution_count": 6,
   "metadata": {},
   "outputs": [
    {
     "data": {
      "text/plain": [
       "Cause           1\n",
       "Complex Type    1\n",
       "dtype: int64"
      ]
     },
     "execution_count": 6,
     "metadata": {},
     "output_type": "execute_result"
    }
   ],
   "source": [
    "null_cols = cleanFireDf.isnull().sum()\n",
    "null_cols[null_cols > 0]"
   ]
  },
  {
   "cell_type": "markdown",
   "metadata": {},
   "source": [
    "There is a really low count of nulls in the dataset hence it is better to delete registers containing any null to ensure operations can be developed properly."
   ]
  },
  {
   "cell_type": "code",
   "execution_count": 7,
   "metadata": {},
   "outputs": [],
   "source": [
    "drop_cols = list(null_cols[null_cols > 0].index)\n",
    "cleanFireDf = cleanFireDf.dropna()"
   ]
  },
  {
   "cell_type": "markdown",
   "metadata": {},
   "source": [
    "We now want to evaluate if data types are appropiate:"
   ]
  },
  {
   "cell_type": "code",
   "execution_count": 8,
   "metadata": {},
   "outputs": [
    {
     "data": {
      "text/plain": [
       "Fire Start Date                 object\n",
       "Fire Out Date                   object\n",
       "County                          object\n",
       "Cause                           object\n",
       "NFFL Fuel Model                 object\n",
       "Complex Type                   float64\n",
       "Acreage                        float64\n",
       "Ownership                       object\n",
       "Fatalities                       int64\n",
       "Injuries                         int64\n",
       "Homes Lost                       int64\n",
       "Homes Threatened                 int64\n",
       "Other Structures Lost            int64\n",
       "Other Structures Threatened      int64\n",
       "dtype: object"
      ]
     },
     "execution_count": 8,
     "metadata": {},
     "output_type": "execute_result"
    }
   ],
   "source": [
    "cleanFireDf.dtypes"
   ]
  },
  {
   "cell_type": "markdown",
   "metadata": {},
   "source": [
    "We have identify three columns that should chaing its data type"
   ]
  },
  {
   "cell_type": "code",
   "execution_count": 9,
   "metadata": {},
   "outputs": [],
   "source": [
    "cleanFireDf['Fire Start Date']=cleanFireDf['Fire Start Date'].astype(\"datetime64\")"
   ]
  },
  {
   "cell_type": "code",
   "execution_count": 10,
   "metadata": {
    "scrolled": true
   },
   "outputs": [],
   "source": [
    "cleanFireDf['Fire Out Date']=cleanFireDf['Fire Out Date'].astype(\"datetime64\")"
   ]
  },
  {
   "cell_type": "code",
   "execution_count": 11,
   "metadata": {},
   "outputs": [],
   "source": [
    "cleanFireDf['Complex Type']=cleanFireDf['Complex Type'].astype(\"int\")"
   ]
  },
  {
   "cell_type": "markdown",
   "metadata": {},
   "source": [
    "We have decided that having an extra column identifying unique events is also useful for certain future operations"
   ]
  },
  {
   "cell_type": "code",
   "execution_count": 12,
   "metadata": {},
   "outputs": [],
   "source": [
    "cleanFireDf['EventID']=cleanFireDf.index"
   ]
  },
  {
   "cell_type": "markdown",
   "metadata": {},
   "source": [
    "We are also changing the order of the columns for easiness"
   ]
  },
  {
   "cell_type": "code",
   "execution_count": 13,
   "metadata": {},
   "outputs": [],
   "source": [
    "cleanFireDf= cleanFireDf[['EventID','Fire Start Date', 'Fire Out Date', 'County', 'Ownership', 'Cause',\n",
    "       'NFFL Fuel Model', 'Complex Type', 'Acreage', 'Fatalities',\n",
    "       'Injuries', 'Homes Lost', 'Homes Threatened', 'Other Structures Lost',\n",
    "       'Other Structures Threatened']]"
   ]
  },
  {
   "cell_type": "markdown",
   "metadata": {},
   "source": [
    "## Perform a preliminary analysis"
   ]
  },
  {
   "cell_type": "code",
   "execution_count": 14,
   "metadata": {},
   "outputs": [
    {
     "data": {
      "text/html": [
       "<div>\n",
       "<style scoped>\n",
       "    .dataframe tbody tr th:only-of-type {\n",
       "        vertical-align: middle;\n",
       "    }\n",
       "\n",
       "    .dataframe tbody tr th {\n",
       "        vertical-align: top;\n",
       "    }\n",
       "\n",
       "    .dataframe thead th {\n",
       "        text-align: right;\n",
       "    }\n",
       "</style>\n",
       "<table border=\"1\" class=\"dataframe\">\n",
       "  <thead>\n",
       "    <tr style=\"text-align: right;\">\n",
       "      <th></th>\n",
       "      <th>EventID</th>\n",
       "      <th>Fire Start Date</th>\n",
       "      <th>Fire Out Date</th>\n",
       "      <th>County</th>\n",
       "      <th>Ownership</th>\n",
       "      <th>Cause</th>\n",
       "      <th>NFFL Fuel Model</th>\n",
       "      <th>Complex Type</th>\n",
       "      <th>Acreage</th>\n",
       "      <th>Fatalities</th>\n",
       "      <th>Injuries</th>\n",
       "      <th>Homes Lost</th>\n",
       "      <th>Homes Threatened</th>\n",
       "      <th>Other Structures Lost</th>\n",
       "      <th>Other Structures Threatened</th>\n",
       "    </tr>\n",
       "  </thead>\n",
       "  <tbody>\n",
       "    <tr>\n",
       "      <th>0</th>\n",
       "      <td>0</td>\n",
       "      <td>2008-01-21</td>\n",
       "      <td>2008-01-21</td>\n",
       "      <td>SUFFOLK</td>\n",
       "      <td>State Forest/RF Area</td>\n",
       "      <td>Equipment</td>\n",
       "      <td>8 - Timber - Light Hardwood Litter</td>\n",
       "      <td>5</td>\n",
       "      <td>0.2</td>\n",
       "      <td>0</td>\n",
       "      <td>0</td>\n",
       "      <td>0</td>\n",
       "      <td>0</td>\n",
       "      <td>0</td>\n",
       "      <td>0</td>\n",
       "    </tr>\n",
       "    <tr>\n",
       "      <th>1</th>\n",
       "      <td>1</td>\n",
       "      <td>2008-03-18</td>\n",
       "      <td>2008-03-18</td>\n",
       "      <td>SUFFOLK</td>\n",
       "      <td>Wildlife Management Area</td>\n",
       "      <td>Prescribed Fire</td>\n",
       "      <td>1 - Grass - Light</td>\n",
       "      <td>5</td>\n",
       "      <td>10.9</td>\n",
       "      <td>0</td>\n",
       "      <td>0</td>\n",
       "      <td>0</td>\n",
       "      <td>0</td>\n",
       "      <td>0</td>\n",
       "      <td>0</td>\n",
       "    </tr>\n",
       "    <tr>\n",
       "      <th>2</th>\n",
       "      <td>2</td>\n",
       "      <td>2008-03-18</td>\n",
       "      <td>2008-03-18</td>\n",
       "      <td>SUFFOLK</td>\n",
       "      <td>Wildlife Management Area</td>\n",
       "      <td>Prescribed Fire</td>\n",
       "      <td>1 - Grass - Light</td>\n",
       "      <td>5</td>\n",
       "      <td>2.3</td>\n",
       "      <td>0</td>\n",
       "      <td>0</td>\n",
       "      <td>0</td>\n",
       "      <td>0</td>\n",
       "      <td>0</td>\n",
       "      <td>0</td>\n",
       "    </tr>\n",
       "    <tr>\n",
       "      <th>3</th>\n",
       "      <td>3</td>\n",
       "      <td>2008-03-22</td>\n",
       "      <td>2008-03-22</td>\n",
       "      <td>SCHOHARIE</td>\n",
       "      <td>Private Property</td>\n",
       "      <td>Miscellaneous</td>\n",
       "      <td>1 - Grass - Light</td>\n",
       "      <td>5</td>\n",
       "      <td>0.2</td>\n",
       "      <td>0</td>\n",
       "      <td>0</td>\n",
       "      <td>0</td>\n",
       "      <td>0</td>\n",
       "      <td>0</td>\n",
       "      <td>0</td>\n",
       "    </tr>\n",
       "    <tr>\n",
       "      <th>4</th>\n",
       "      <td>4</td>\n",
       "      <td>2008-03-22</td>\n",
       "      <td>2008-03-22</td>\n",
       "      <td>SUFFOLK</td>\n",
       "      <td>Wildlife Management Area</td>\n",
       "      <td>Prescribed Fire</td>\n",
       "      <td>1 - Grass - Light</td>\n",
       "      <td>5</td>\n",
       "      <td>5.8</td>\n",
       "      <td>0</td>\n",
       "      <td>0</td>\n",
       "      <td>0</td>\n",
       "      <td>0</td>\n",
       "      <td>0</td>\n",
       "      <td>0</td>\n",
       "    </tr>\n",
       "  </tbody>\n",
       "</table>\n",
       "</div>"
      ],
      "text/plain": [
       "   EventID Fire Start Date Fire Out Date     County                 Ownership  \\\n",
       "0        0      2008-01-21    2008-01-21    SUFFOLK      State Forest/RF Area   \n",
       "1        1      2008-03-18    2008-03-18    SUFFOLK  Wildlife Management Area   \n",
       "2        2      2008-03-18    2008-03-18    SUFFOLK  Wildlife Management Area   \n",
       "3        3      2008-03-22    2008-03-22  SCHOHARIE          Private Property   \n",
       "4        4      2008-03-22    2008-03-22    SUFFOLK  Wildlife Management Area   \n",
       "\n",
       "             Cause                      NFFL Fuel Model  Complex Type  \\\n",
       "0        Equipment   8 - Timber - Light Hardwood Litter             5   \n",
       "1  Prescribed Fire                    1 - Grass - Light             5   \n",
       "2  Prescribed Fire                    1 - Grass - Light             5   \n",
       "3    Miscellaneous                    1 - Grass - Light             5   \n",
       "4  Prescribed Fire                    1 - Grass - Light             5   \n",
       "\n",
       "   Acreage  Fatalities  Injuries  Homes Lost  Homes Threatened  \\\n",
       "0      0.2           0         0           0                 0   \n",
       "1     10.9           0         0           0                 0   \n",
       "2      2.3           0         0           0                 0   \n",
       "3      0.2           0         0           0                 0   \n",
       "4      5.8           0         0           0                 0   \n",
       "\n",
       "   Other Structures Lost  Other Structures Threatened  \n",
       "0                      0                            0  \n",
       "1                      0                            0  \n",
       "2                      0                            0  \n",
       "3                      0                            0  \n",
       "4                      0                            0  "
      ]
     },
     "execution_count": 14,
     "metadata": {},
     "output_type": "execute_result"
    }
   ],
   "source": [
    "cleanFireDf.head()"
   ]
  },
  {
   "cell_type": "code",
   "execution_count": 15,
   "metadata": {},
   "outputs": [
    {
     "data": {
      "text/html": [
       "<div>\n",
       "<style scoped>\n",
       "    .dataframe tbody tr th:only-of-type {\n",
       "        vertical-align: middle;\n",
       "    }\n",
       "\n",
       "    .dataframe tbody tr th {\n",
       "        vertical-align: top;\n",
       "    }\n",
       "\n",
       "    .dataframe thead th {\n",
       "        text-align: right;\n",
       "    }\n",
       "</style>\n",
       "<table border=\"1\" class=\"dataframe\">\n",
       "  <thead>\n",
       "    <tr style=\"text-align: right;\">\n",
       "      <th></th>\n",
       "      <th>EventID</th>\n",
       "      <th>Complex Type</th>\n",
       "      <th>Acreage</th>\n",
       "      <th>Fatalities</th>\n",
       "      <th>Injuries</th>\n",
       "      <th>Homes Lost</th>\n",
       "      <th>Homes Threatened</th>\n",
       "      <th>Other Structures Lost</th>\n",
       "      <th>Other Structures Threatened</th>\n",
       "    </tr>\n",
       "  </thead>\n",
       "  <tbody>\n",
       "    <tr>\n",
       "      <th>count</th>\n",
       "      <td>1512.000000</td>\n",
       "      <td>1512.000000</td>\n",
       "      <td>1512.000000</td>\n",
       "      <td>1512.000000</td>\n",
       "      <td>1512.000000</td>\n",
       "      <td>1512.000000</td>\n",
       "      <td>1512.000000</td>\n",
       "      <td>1512.000000</td>\n",
       "      <td>1512.000000</td>\n",
       "    </tr>\n",
       "    <tr>\n",
       "      <th>mean</th>\n",
       "      <td>755.663360</td>\n",
       "      <td>4.554233</td>\n",
       "      <td>14.563294</td>\n",
       "      <td>0.001323</td>\n",
       "      <td>0.037037</td>\n",
       "      <td>0.008598</td>\n",
       "      <td>0.191799</td>\n",
       "      <td>0.082672</td>\n",
       "      <td>0.044974</td>\n",
       "    </tr>\n",
       "    <tr>\n",
       "      <th>std</th>\n",
       "      <td>436.880815</td>\n",
       "      <td>0.780111</td>\n",
       "      <td>122.407991</td>\n",
       "      <td>0.036358</td>\n",
       "      <td>0.267258</td>\n",
       "      <td>0.111806</td>\n",
       "      <td>3.071224</td>\n",
       "      <td>1.213389</td>\n",
       "      <td>0.397662</td>\n",
       "    </tr>\n",
       "    <tr>\n",
       "      <th>min</th>\n",
       "      <td>0.000000</td>\n",
       "      <td>1.000000</td>\n",
       "      <td>0.000000</td>\n",
       "      <td>0.000000</td>\n",
       "      <td>0.000000</td>\n",
       "      <td>0.000000</td>\n",
       "      <td>0.000000</td>\n",
       "      <td>0.000000</td>\n",
       "      <td>0.000000</td>\n",
       "    </tr>\n",
       "    <tr>\n",
       "      <th>25%</th>\n",
       "      <td>377.750000</td>\n",
       "      <td>4.000000</td>\n",
       "      <td>0.300000</td>\n",
       "      <td>0.000000</td>\n",
       "      <td>0.000000</td>\n",
       "      <td>0.000000</td>\n",
       "      <td>0.000000</td>\n",
       "      <td>0.000000</td>\n",
       "      <td>0.000000</td>\n",
       "    </tr>\n",
       "    <tr>\n",
       "      <th>50%</th>\n",
       "      <td>755.500000</td>\n",
       "      <td>5.000000</td>\n",
       "      <td>1.500000</td>\n",
       "      <td>0.000000</td>\n",
       "      <td>0.000000</td>\n",
       "      <td>0.000000</td>\n",
       "      <td>0.000000</td>\n",
       "      <td>0.000000</td>\n",
       "      <td>0.000000</td>\n",
       "    </tr>\n",
       "    <tr>\n",
       "      <th>75%</th>\n",
       "      <td>1133.250000</td>\n",
       "      <td>5.000000</td>\n",
       "      <td>6.225000</td>\n",
       "      <td>0.000000</td>\n",
       "      <td>0.000000</td>\n",
       "      <td>0.000000</td>\n",
       "      <td>0.000000</td>\n",
       "      <td>0.000000</td>\n",
       "      <td>0.000000</td>\n",
       "    </tr>\n",
       "    <tr>\n",
       "      <th>max</th>\n",
       "      <td>1513.000000</td>\n",
       "      <td>5.000000</td>\n",
       "      <td>2855.000000</td>\n",
       "      <td>1.000000</td>\n",
       "      <td>4.000000</td>\n",
       "      <td>3.000000</td>\n",
       "      <td>89.000000</td>\n",
       "      <td>39.000000</td>\n",
       "      <td>12.000000</td>\n",
       "    </tr>\n",
       "  </tbody>\n",
       "</table>\n",
       "</div>"
      ],
      "text/plain": [
       "           EventID  Complex Type      Acreage   Fatalities     Injuries  \\\n",
       "count  1512.000000   1512.000000  1512.000000  1512.000000  1512.000000   \n",
       "mean    755.663360      4.554233    14.563294     0.001323     0.037037   \n",
       "std     436.880815      0.780111   122.407991     0.036358     0.267258   \n",
       "min       0.000000      1.000000     0.000000     0.000000     0.000000   \n",
       "25%     377.750000      4.000000     0.300000     0.000000     0.000000   \n",
       "50%     755.500000      5.000000     1.500000     0.000000     0.000000   \n",
       "75%    1133.250000      5.000000     6.225000     0.000000     0.000000   \n",
       "max    1513.000000      5.000000  2855.000000     1.000000     4.000000   \n",
       "\n",
       "        Homes Lost  Homes Threatened  Other Structures Lost  \\\n",
       "count  1512.000000       1512.000000            1512.000000   \n",
       "mean      0.008598          0.191799               0.082672   \n",
       "std       0.111806          3.071224               1.213389   \n",
       "min       0.000000          0.000000               0.000000   \n",
       "25%       0.000000          0.000000               0.000000   \n",
       "50%       0.000000          0.000000               0.000000   \n",
       "75%       0.000000          0.000000               0.000000   \n",
       "max       3.000000         89.000000              39.000000   \n",
       "\n",
       "       Other Structures Threatened  \n",
       "count                  1512.000000  \n",
       "mean                      0.044974  \n",
       "std                       0.397662  \n",
       "min                       0.000000  \n",
       "25%                       0.000000  \n",
       "50%                       0.000000  \n",
       "75%                       0.000000  \n",
       "max                      12.000000  "
      ]
     },
     "execution_count": 15,
     "metadata": {},
     "output_type": "execute_result"
    }
   ],
   "source": [
    "cleanFireDf.describe()"
   ]
  },
  {
   "cell_type": "code",
   "execution_count": 16,
   "metadata": {},
   "outputs": [
    {
     "data": {
      "text/plain": [
       "Debris Burning     345\n",
       "Campfire           286\n",
       "Incendiary         244\n",
       "Prescribed Fire    149\n",
       "Miscellaneous       92\n",
       "Smoking             92\n",
       "Equipment           86\n",
       "Power line          70\n",
       "Lightning           67\n",
       "Children            40\n",
       "Railroad            17\n",
       "Structure           13\n",
       "Fireworks           11\n",
       "Name: Cause, dtype: int64"
      ]
     },
     "execution_count": 16,
     "metadata": {},
     "output_type": "execute_result"
    }
   ],
   "source": [
    "cleanFireDf['Cause'].value_counts()"
   ]
  },
  {
   "cell_type": "code",
   "execution_count": 17,
   "metadata": {},
   "outputs": [
    {
     "data": {
      "text/plain": [
       "Private Property            876\n",
       "Forest Preserve             178\n",
       "State Forest/RF Area        140\n",
       "Other Government            113\n",
       "Wildlife Management Area     67\n",
       "Unique Area                  39\n",
       "OPR&HP (State Parks)         35\n",
       "Federal Lands                21\n",
       "Other Not Classified         19\n",
       "Wilderness Area              13\n",
       "Conservation Easement         9\n",
       "Native American Lands         2\n",
       "Name: Ownership, dtype: int64"
      ]
     },
     "execution_count": 17,
     "metadata": {},
     "output_type": "execute_result"
    }
   ],
   "source": [
    "cleanFireDf['Ownership'].value_counts()"
   ]
  },
  {
   "cell_type": "code",
   "execution_count": 18,
   "metadata": {},
   "outputs": [
    {
     "data": {
      "text/plain": [
       " 8 - Timber - Light Hardwood Litter         458\n",
       " 9 - Timber - Medium Hardwood Litter        327\n",
       " 1 - Grass - Light                          231\n",
       " 3 - Grass - Heavy                          109\n",
       "10 - Timber  - Heavy Litter/Downed Fuels     87\n",
       " 7 - Brush - Understory                      70\n",
       " 6 - Brush - Mixed/Regeneration              65\n",
       " 2 - Grass - Understory                      58\n",
       " 5 - Brush - Continuous but Light            52\n",
       "12 - Slash - Medium                          18\n",
       "11 - Slash - Light                           15\n",
       " 4 - Brush - Heavy/Volatile                  15\n",
       "13 - Slash Heavy                              7\n",
       "Name: NFFL Fuel Model, dtype: int64"
      ]
     },
     "execution_count": 18,
     "metadata": {},
     "output_type": "execute_result"
    }
   ],
   "source": [
    "cleanFireDf['NFFL Fuel Model'].value_counts()"
   ]
  },
  {
   "cell_type": "markdown",
   "metadata": {},
   "source": [
    "## Hypothesis 1"
   ]
  },
  {
   "cell_type": "markdown",
   "metadata": {},
   "source": [
    "After a first look at the data we have gathered the following hypothesis:\n",
    "    \n",
    "We observed that most of the fires happened in private lands where we assume that the number of houses and structures threatened or lost by the fire are higher than in public lands, being this fact linked with a higher number of fatalities and injuries. "
   ]
  },
  {
   "cell_type": "code",
   "execution_count": 19,
   "metadata": {},
   "outputs": [
    {
     "data": {
      "text/plain": [
       "<matplotlib.axes._subplots.AxesSubplot at 0x7f752790c198>"
      ]
     },
     "execution_count": 19,
     "metadata": {},
     "output_type": "execute_result"
    },
    {
     "data": {
      "image/png": "[encoded data removed]",
      "text/plain": [
       "<Figure size 432x288 with 1 Axes>"
      ]
     },
     "metadata": {
      "needs_background": "light"
     },
     "output_type": "display_data"
    }
   ],
   "source": [
    "cleanFireDf['Ownership'].value_counts().plot(kind='bar')"
   ]
  },
  {
   "cell_type": "markdown",
   "metadata": {},
   "source": [
    "From seeing this data, we believe that making dividing it into just three categories will help understanding results better"
   ]
  },
  {
   "cell_type": "code",
   "execution_count": 20,
   "metadata": {},
   "outputs": [],
   "source": [
    "def simplifyValues(x):\n",
    "    if \"Private\" in x:\n",
    "        x=\"Private Property\"\n",
    "    elif \"Not Classified\" in x:\n",
    "        x=\"Not Classified\"\n",
    "    else:\n",
    "        x=\"Public Property\"\n",
    "    return x\n"
   ]
  },
  {
   "cell_type": "code",
   "execution_count": 21,
   "metadata": {},
   "outputs": [
    {
     "data": {
      "text/plain": [
       "<matplotlib.axes._subplots.AxesSubplot at 0x7f7527929b00>"
      ]
     },
     "execution_count": 21,
     "metadata": {},
     "output_type": "execute_result"
    },
    {
     "data": {
      "image/png": "[encoded data removed]",
      "text/plain": [
       "<Figure size 432x288 with 1 Axes>"
      ]
     },
     "metadata": {
      "needs_background": "light"
     },
     "output_type": "display_data"
    }
   ],
   "source": [
    "cleanFireDf['Ownership']=cleanFireDf['Ownership'].apply(lambda x: simplifyValues(x))\n",
    "cleanFireDf['Ownership'].value_counts().plot(kind='bar')"
   ]
  },
  {
   "cell_type": "markdown",
   "metadata": {},
   "source": [
    "We have also decided that for checking our hypothesis is not necessary to diffenciate between injuries and fatalities, and between  houses and structures lost and threatened. So we can apply a function de simplify this columns:"
   ]
  },
  {
   "cell_type": "code",
   "execution_count": 22,
   "metadata": {},
   "outputs": [
    {
     "data": {
      "text/plain": [
       "Index(['EventID', 'Fire Start Date', 'Fire Out Date', 'County', 'Ownership',\n",
       "       'Cause', 'NFFL Fuel Model', 'Complex Type', 'Acreage', 'Fatalities',\n",
       "       'Injuries', 'Homes Lost', 'Homes Threatened', 'Other Structures Lost',\n",
       "       'Other Structures Threatened'],\n",
       "      dtype='object')"
      ]
     },
     "execution_count": 22,
     "metadata": {},
     "output_type": "execute_result"
    }
   ],
   "source": [
    "cleanFireDf.columns"
   ]
  },
  {
   "cell_type": "code",
   "execution_count": 23,
   "metadata": {},
   "outputs": [],
   "source": [
    "def sumColumns(columnName,dataframe1, arrayColumns, arrayNames):\n",
    "    total=arrayColumns[0]\n",
    "    for i in range(len(arrayColumns))[1:]:\n",
    "        total+=arrayColumns[i]\n",
    "    [dataframe1.drop([e],1, inplace=True) for e in arrayNames]\n",
    "    dataframe1[columnName]=total\n",
    "    return dataframe1"
   ]
  },
  {
   "cell_type": "code",
   "execution_count": 24,
   "metadata": {},
   "outputs": [],
   "source": [
    "cleanFireDf=sumColumns(\"Sum Victims\",cleanFireDf,[cleanFireDf['Fatalities'],cleanFireDf['Injuries']],['Fatalities', 'Injuries'])\n",
    "cleanFireDf=sumColumns(\"Sum Affected Structures\",cleanFireDf,[cleanFireDf['Homes Lost'],cleanFireDf['Homes Threatened'],cleanFireDf['Other Structures Lost'],cleanFireDf['Other Structures Threatened']],['Homes Lost','Homes Threatened','Other Structures Lost','Other Structures Threatened'])"
   ]
  },
  {
   "cell_type": "code",
   "execution_count": 25,
   "metadata": {},
   "outputs": [
    {
     "data": {
      "text/html": [
       "<div>\n",
       "<style scoped>\n",
       "    .dataframe tbody tr th:only-of-type {\n",
       "        vertical-align: middle;\n",
       "    }\n",
       "\n",
       "    .dataframe tbody tr th {\n",
       "        vertical-align: top;\n",
       "    }\n",
       "\n",
       "    .dataframe thead th {\n",
       "        text-align: right;\n",
       "    }\n",
       "</style>\n",
       "<table border=\"1\" class=\"dataframe\">\n",
       "  <thead>\n",
       "    <tr style=\"text-align: right;\">\n",
       "      <th></th>\n",
       "      <th>EventID</th>\n",
       "      <th>Fire Start Date</th>\n",
       "      <th>Fire Out Date</th>\n",
       "      <th>County</th>\n",
       "      <th>Ownership</th>\n",
       "      <th>Cause</th>\n",
       "      <th>NFFL Fuel Model</th>\n",
       "      <th>Complex Type</th>\n",
       "      <th>Acreage</th>\n",
       "      <th>Sum Victims</th>\n",
       "      <th>Sum Affected Structures</th>\n",
       "    </tr>\n",
       "  </thead>\n",
       "  <tbody>\n",
       "    <tr>\n",
       "      <th>0</th>\n",
       "      <td>0</td>\n",
       "      <td>2008-01-21</td>\n",
       "      <td>2008-01-21</td>\n",
       "      <td>SUFFOLK</td>\n",
       "      <td>Public Property</td>\n",
       "      <td>Equipment</td>\n",
       "      <td>8 - Timber - Light Hardwood Litter</td>\n",
       "      <td>5</td>\n",
       "      <td>0.2</td>\n",
       "      <td>0</td>\n",
       "      <td>0</td>\n",
       "    </tr>\n",
       "    <tr>\n",
       "      <th>1</th>\n",
       "      <td>1</td>\n",
       "      <td>2008-03-18</td>\n",
       "      <td>2008-03-18</td>\n",
       "      <td>SUFFOLK</td>\n",
       "      <td>Public Property</td>\n",
       "      <td>Prescribed Fire</td>\n",
       "      <td>1 - Grass - Light</td>\n",
       "      <td>5</td>\n",
       "      <td>10.9</td>\n",
       "      <td>0</td>\n",
       "      <td>0</td>\n",
       "    </tr>\n",
       "    <tr>\n",
       "      <th>2</th>\n",
       "      <td>2</td>\n",
       "      <td>2008-03-18</td>\n",
       "      <td>2008-03-18</td>\n",
       "      <td>SUFFOLK</td>\n",
       "      <td>Public Property</td>\n",
       "      <td>Prescribed Fire</td>\n",
       "      <td>1 - Grass - Light</td>\n",
       "      <td>5</td>\n",
       "      <td>2.3</td>\n",
       "      <td>0</td>\n",
       "      <td>0</td>\n",
       "    </tr>\n",
       "    <tr>\n",
       "      <th>3</th>\n",
       "      <td>3</td>\n",
       "      <td>2008-03-22</td>\n",
       "      <td>2008-03-22</td>\n",
       "      <td>SCHOHARIE</td>\n",
       "      <td>Private Property</td>\n",
       "      <td>Miscellaneous</td>\n",
       "      <td>1 - Grass - Light</td>\n",
       "      <td>5</td>\n",
       "      <td>0.2</td>\n",
       "      <td>0</td>\n",
       "      <td>0</td>\n",
       "    </tr>\n",
       "    <tr>\n",
       "      <th>4</th>\n",
       "      <td>4</td>\n",
       "      <td>2008-03-22</td>\n",
       "      <td>2008-03-22</td>\n",
       "      <td>SUFFOLK</td>\n",
       "      <td>Public Property</td>\n",
       "      <td>Prescribed Fire</td>\n",
       "      <td>1 - Grass - Light</td>\n",
       "      <td>5</td>\n",
       "      <td>5.8</td>\n",
       "      <td>0</td>\n",
       "      <td>0</td>\n",
       "    </tr>\n",
       "  </tbody>\n",
       "</table>\n",
       "</div>"
      ],
      "text/plain": [
       "   EventID Fire Start Date Fire Out Date     County         Ownership  \\\n",
       "0        0      2008-01-21    2008-01-21    SUFFOLK   Public Property   \n",
       "1        1      2008-03-18    2008-03-18    SUFFOLK   Public Property   \n",
       "2        2      2008-03-18    2008-03-18    SUFFOLK   Public Property   \n",
       "3        3      2008-03-22    2008-03-22  SCHOHARIE  Private Property   \n",
       "4        4      2008-03-22    2008-03-22    SUFFOLK   Public Property   \n",
       "\n",
       "             Cause                      NFFL Fuel Model  Complex Type  \\\n",
       "0        Equipment   8 - Timber - Light Hardwood Litter             5   \n",
       "1  Prescribed Fire                    1 - Grass - Light             5   \n",
       "2  Prescribed Fire                    1 - Grass - Light             5   \n",
       "3    Miscellaneous                    1 - Grass - Light             5   \n",
       "4  Prescribed Fire                    1 - Grass - Light             5   \n",
       "\n",
       "   Acreage  Sum Victims  Sum Affected Structures  \n",
       "0      0.2            0                        0  \n",
       "1     10.9            0                        0  \n",
       "2      2.3            0                        0  \n",
       "3      0.2            0                        0  \n",
       "4      5.8            0                        0  "
      ]
     },
     "execution_count": 25,
     "metadata": {},
     "output_type": "execute_result"
    }
   ],
   "source": [
    "cleanFireDf.head()"
   ]
  },
  {
   "cell_type": "code",
   "execution_count": 35,
   "metadata": {},
   "outputs": [
    {
     "data": {
      "text/html": [
       "<div>\n",
       "<style scoped>\n",
       "    .dataframe tbody tr th:only-of-type {\n",
       "        vertical-align: middle;\n",
       "    }\n",
       "\n",
       "    .dataframe tbody tr th {\n",
       "        vertical-align: top;\n",
       "    }\n",
       "\n",
       "    .dataframe thead tr th {\n",
       "        text-align: left;\n",
       "    }\n",
       "\n",
       "    .dataframe thead tr:last-of-type th {\n",
       "        text-align: right;\n",
       "    }\n",
       "</style>\n",
       "<table border=\"1\" class=\"dataframe\">\n",
       "  <thead>\n",
       "    <tr>\n",
       "      <th></th>\n",
       "      <th colspan=\"2\" halign=\"left\">mean</th>\n",
       "      <th colspan=\"2\" halign=\"left\">median</th>\n",
       "      <th colspan=\"2\" halign=\"left\">max</th>\n",
       "      <th colspan=\"2\" halign=\"left\">min</th>\n",
       "      <th colspan=\"2\" halign=\"left\">std</th>\n",
       "      <th colspan=\"2\" halign=\"left\">sum</th>\n",
       "    </tr>\n",
       "    <tr>\n",
       "      <th></th>\n",
       "      <th>Sum Affected Structures</th>\n",
       "      <th>Sum Victims</th>\n",
       "      <th>Sum Affected Structures</th>\n",
       "      <th>Sum Victims</th>\n",
       "      <th>Sum Affected Structures</th>\n",
       "      <th>Sum Victims</th>\n",
       "      <th>Sum Affected Structures</th>\n",
       "      <th>Sum Victims</th>\n",
       "      <th>Sum Affected Structures</th>\n",
       "      <th>Sum Victims</th>\n",
       "      <th>Sum Affected Structures</th>\n",
       "      <th>Sum Victims</th>\n",
       "    </tr>\n",
       "    <tr>\n",
       "      <th>Ownership</th>\n",
       "      <th></th>\n",
       "      <th></th>\n",
       "      <th></th>\n",
       "      <th></th>\n",
       "      <th></th>\n",
       "      <th></th>\n",
       "      <th></th>\n",
       "      <th></th>\n",
       "      <th></th>\n",
       "      <th></th>\n",
       "      <th></th>\n",
       "      <th></th>\n",
       "    </tr>\n",
       "  </thead>\n",
       "  <tbody>\n",
       "    <tr>\n",
       "      <th>Not Classified</th>\n",
       "      <td>1.052632</td>\n",
       "      <td>0.052632</td>\n",
       "      <td>0</td>\n",
       "      <td>0</td>\n",
       "      <td>19</td>\n",
       "      <td>1</td>\n",
       "      <td>0</td>\n",
       "      <td>0</td>\n",
       "      <td>4.352186</td>\n",
       "      <td>0.229416</td>\n",
       "      <td>20</td>\n",
       "      <td>1</td>\n",
       "    </tr>\n",
       "    <tr>\n",
       "      <th>Private Property</th>\n",
       "      <td>0.350457</td>\n",
       "      <td>0.047945</td>\n",
       "      <td>0</td>\n",
       "      <td>0</td>\n",
       "      <td>70</td>\n",
       "      <td>4</td>\n",
       "      <td>0</td>\n",
       "      <td>0</td>\n",
       "      <td>2.948978</td>\n",
       "      <td>0.282815</td>\n",
       "      <td>307</td>\n",
       "      <td>42</td>\n",
       "    </tr>\n",
       "    <tr>\n",
       "      <th>Public Property</th>\n",
       "      <td>0.273906</td>\n",
       "      <td>0.024311</td>\n",
       "      <td>0</td>\n",
       "      <td>0</td>\n",
       "      <td>89</td>\n",
       "      <td>3</td>\n",
       "      <td>0</td>\n",
       "      <td>0</td>\n",
       "      <td>4.227060</td>\n",
       "      <td>0.250439</td>\n",
       "      <td>169</td>\n",
       "      <td>15</td>\n",
       "    </tr>\n",
       "  </tbody>\n",
       "</table>\n",
       "</div>"
      ],
      "text/plain": [
       "                                    mean                              median  \\\n",
       "                 Sum Affected Structures Sum Victims Sum Affected Structures   \n",
       "Ownership                                                                      \n",
       "Not Classified                  1.052632    0.052632                       0   \n",
       "Private Property                0.350457    0.047945                       0   \n",
       "Public Property                 0.273906    0.024311                       0   \n",
       "\n",
       "                                                 max              \\\n",
       "                 Sum Victims Sum Affected Structures Sum Victims   \n",
       "Ownership                                                          \n",
       "Not Classified             0                      19           1   \n",
       "Private Property           0                      70           4   \n",
       "Public Property            0                      89           3   \n",
       "\n",
       "                                     min                                 std  \\\n",
       "                 Sum Affected Structures Sum Victims Sum Affected Structures   \n",
       "Ownership                                                                      \n",
       "Not Classified                         0           0                4.352186   \n",
       "Private Property                       0           0                2.948978   \n",
       "Public Property                        0           0                4.227060   \n",
       "\n",
       "                                                 sum              \n",
       "                 Sum Victims Sum Affected Structures Sum Victims  \n",
       "Ownership                                                         \n",
       "Not Classified      0.229416                      20           1  \n",
       "Private Property    0.282815                     307          42  \n",
       "Public Property     0.250439                     169          15  "
      ]
     },
     "execution_count": 35,
     "metadata": {},
     "output_type": "execute_result"
    }
   ],
   "source": [
    "cleanFireDf.pivot_table(index=[\"Ownership\"], values=[\"Sum Victims\",\"Sum Affected Structures\"],aggfunc=[\"mean\",\"median\",\"max\",\"min\",\"std\",\"sum\"])"
   ]
  },
  {
   "cell_type": "markdown",
   "metadata": {},
   "source": [
    "We can see from the values above that the private property's values are higher so we can conclude that the risk of getting people injured and infrastructures affected by fire is higher in private properties than in public properties. Surprisingly, the \"not classified\" properties are the ones with the higher ratio of people and infrastructures affected, it would be interesting to know what kind of space these are."
   ]
  },
  {
   "cell_type": "markdown",
   "metadata": {},
   "source": [
    "## Hypothesis 2"
   ]
  },
  {
   "cell_type": "markdown",
   "metadata": {},
   "source": [
    "It would be logic to think that acreage, victims and affected infrastructures have a direct correlation, so the more land that burns the higher the number of people and houses affected"
   ]
  },
  {
   "cell_type": "code",
   "execution_count": 37,
   "metadata": {},
   "outputs": [
    {
     "data": {
      "text/plain": [
       "Text(0, 0.5, 'Sum Victims')"
      ]
     },
     "execution_count": 37,
     "metadata": {},
     "output_type": "execute_result"
    },
    {
     "data": {
      "image/png": "[encoded data removed]",
      "text/plain": [
       "<Figure size 432x288 with 1 Axes>"
      ]
     },
     "metadata": {
      "needs_background": "light"
     },
     "output_type": "display_data"
    }
   ],
   "source": [
    "plt.scatter(x=cleanFireDf[\"Acreage\"], y=cleanFireDf[\"Sum Victims\"], color=['red'])\n",
    "plt.title(\"Acreage vs Sum Victims\")\n",
    "plt.xlabel(\"Acreage\")\n",
    "plt.ylabel(\"Sum Victims\")"
   ]
  },
  {
   "cell_type": "code",
   "execution_count": 39,
   "metadata": {},
   "outputs": [
    {
     "data": {
      "text/plain": [
       "Text(0, 0.5, 'Sum Affected Structures')"
      ]
     },
     "execution_count": 39,
     "metadata": {},
     "output_type": "execute_result"
    },
    {
     "data": {
      "image/png": "[encoded data removed]",
      "text/plain": [
       "<Figure size 432x288 with 1 Axes>"
      ]
     },
     "metadata": {
      "needs_background": "light"
     },
     "output_type": "display_data"
    }
   ],
   "source": [
    "plt.scatter(x=cleanFireDf[\"Acreage\"], y=cleanFireDf[\"Sum Affected Structures\"], color=['red'])\n",
    "plt.title(\"Acreage vs Sum Affected Structures\")\n",
    "plt.xlabel(\"Acreage\")\n",
    "plt.ylabel(\"Sum Affected Structures\")"
   ]
  },
  {
   "cell_type": "code",
   "execution_count": 40,
   "metadata": {},
   "outputs": [
    {
     "data": {
      "text/plain": [
       "Text(0, 0.5, 'Sum Affected Structures')"
      ]
     },
     "execution_count": 40,
     "metadata": {},
     "output_type": "execute_result"
    },
    {
     "data": {
      "image/png": "[encoded data removed]",
      "text/plain": [
       "<Figure size 432x288 with 1 Axes>"
      ]
     },
     "metadata": {
      "needs_background": "light"
     },
     "output_type": "display_data"
    }
   ],
   "source": [
    "plt.scatter(x=cleanFireDf[\"Sum Victims\"], y=cleanFireDf[\"Sum Affected Structures\"], color=['red'])\n",
    "plt.title(\"Sum Victims vs Sum Affected Structures\")\n",
    "plt.xlabel(\"Sum Victims\")\n",
    "plt.ylabel(\"Sum Affected Structures\")"
   ]
  },
  {
   "cell_type": "markdown",
   "metadata": {},
   "source": [
    "From the above scatter plot we can't be sure if our hypothesis is true, data is distributed in a way that does not communicate a direct relationship"
   ]
  },
  {
   "cell_type": "markdown",
   "metadata": {},
   "source": [
    "We can calculate the correlations between our data to see if these are more useful:"
   ]
  },
  {
   "cell_type": "code",
   "execution_count": 38,
   "metadata": {},
   "outputs": [
    {
     "data": {
      "text/html": [
       "<div>\n",
       "<style scoped>\n",
       "    .dataframe tbody tr th:only-of-type {\n",
       "        vertical-align: middle;\n",
       "    }\n",
       "\n",
       "    .dataframe tbody tr th {\n",
       "        vertical-align: top;\n",
       "    }\n",
       "\n",
       "    .dataframe thead th {\n",
       "        text-align: right;\n",
       "    }\n",
       "</style>\n",
       "<table border=\"1\" class=\"dataframe\">\n",
       "  <thead>\n",
       "    <tr style=\"text-align: right;\">\n",
       "      <th></th>\n",
       "      <th>EventID</th>\n",
       "      <th>Complex Type</th>\n",
       "      <th>Acreage</th>\n",
       "      <th>Sum Victims</th>\n",
       "      <th>Sum Affected Structures</th>\n",
       "    </tr>\n",
       "  </thead>\n",
       "  <tbody>\n",
       "    <tr>\n",
       "      <th>EventID</th>\n",
       "      <td>1.000000</td>\n",
       "      <td>0.180521</td>\n",
       "      <td>0.008949</td>\n",
       "      <td>-0.097564</td>\n",
       "      <td>-0.041650</td>\n",
       "    </tr>\n",
       "    <tr>\n",
       "      <th>Complex Type</th>\n",
       "      <td>0.180521</td>\n",
       "      <td>1.000000</td>\n",
       "      <td>-0.187795</td>\n",
       "      <td>-0.148388</td>\n",
       "      <td>-0.146270</td>\n",
       "    </tr>\n",
       "    <tr>\n",
       "      <th>Acreage</th>\n",
       "      <td>0.008949</td>\n",
       "      <td>-0.187795</td>\n",
       "      <td>1.000000</td>\n",
       "      <td>0.521019</td>\n",
       "      <td>0.631854</td>\n",
       "    </tr>\n",
       "    <tr>\n",
       "      <th>Sum Victims</th>\n",
       "      <td>-0.097564</td>\n",
       "      <td>-0.148388</td>\n",
       "      <td>0.521019</td>\n",
       "      <td>1.000000</td>\n",
       "      <td>0.353403</td>\n",
       "    </tr>\n",
       "    <tr>\n",
       "      <th>Sum Affected Structures</th>\n",
       "      <td>-0.041650</td>\n",
       "      <td>-0.146270</td>\n",
       "      <td>0.631854</td>\n",
       "      <td>0.353403</td>\n",
       "      <td>1.000000</td>\n",
       "    </tr>\n",
       "  </tbody>\n",
       "</table>\n",
       "</div>"
      ],
      "text/plain": [
       "                          EventID  Complex Type   Acreage  Sum Victims  \\\n",
       "EventID                  1.000000      0.180521  0.008949    -0.097564   \n",
       "Complex Type             0.180521      1.000000 -0.187795    -0.148388   \n",
       "Acreage                  0.008949     -0.187795  1.000000     0.521019   \n",
       "Sum Victims             -0.097564     -0.148388  0.521019     1.000000   \n",
       "Sum Affected Structures -0.041650     -0.146270  0.631854     0.353403   \n",
       "\n",
       "                         Sum Affected Structures  \n",
       "EventID                                -0.041650  \n",
       "Complex Type                           -0.146270  \n",
       "Acreage                                 0.631854  \n",
       "Sum Victims                             0.353403  \n",
       "Sum Affected Structures                 1.000000  "
      ]
     },
     "execution_count": 38,
     "metadata": {},
     "output_type": "execute_result"
    }
   ],
   "source": [
    "cleanFireDf.corr()"
   ]
  },
  {
   "cell_type": "markdown",
   "metadata": {},
   "source": [
    "We can confirm from the Pearson method above that it exist a positive correlation between Acreage, Sum Victims and Sum Affected Structures that could support our hypothesis. We also observe that Acreage and Complex Type maintain a negative correlation which makes sense reading at the definition of Complex Type ( Incident command system classification of complexity of the incident. “1” is a very large incident, “5” is a small incident). A lower complex type (larger incident) would cause more land to burn."
   ]
  },
  {
   "cell_type": "code",
   "execution_count": 41,
   "metadata": {},
   "outputs": [
    {
     "data": {
      "text/html": [
       "<div>\n",
       "<style scoped>\n",
       "    .dataframe tbody tr th:only-of-type {\n",
       "        vertical-align: middle;\n",
       "    }\n",
       "\n",
       "    .dataframe tbody tr th {\n",
       "        vertical-align: top;\n",
       "    }\n",
       "\n",
       "    .dataframe thead th {\n",
       "        text-align: right;\n",
       "    }\n",
       "</style>\n",
       "<table border=\"1\" class=\"dataframe\">\n",
       "  <thead>\n",
       "    <tr style=\"text-align: right;\">\n",
       "      <th></th>\n",
       "      <th>EventID</th>\n",
       "      <th>Complex Type</th>\n",
       "      <th>Acreage</th>\n",
       "      <th>Sum Victims</th>\n",
       "      <th>Sum Affected Structures</th>\n",
       "    </tr>\n",
       "  </thead>\n",
       "  <tbody>\n",
       "    <tr>\n",
       "      <th>EventID</th>\n",
       "      <td>1.000000</td>\n",
       "      <td>0.222091</td>\n",
       "      <td>-0.012461</td>\n",
       "      <td>-0.114677</td>\n",
       "      <td>-0.230698</td>\n",
       "    </tr>\n",
       "    <tr>\n",
       "      <th>Complex Type</th>\n",
       "      <td>0.222091</td>\n",
       "      <td>1.000000</td>\n",
       "      <td>-0.344415</td>\n",
       "      <td>-0.142392</td>\n",
       "      <td>-0.107184</td>\n",
       "    </tr>\n",
       "    <tr>\n",
       "      <th>Acreage</th>\n",
       "      <td>-0.012461</td>\n",
       "      <td>-0.344415</td>\n",
       "      <td>1.000000</td>\n",
       "      <td>0.108143</td>\n",
       "      <td>0.065579</td>\n",
       "    </tr>\n",
       "    <tr>\n",
       "      <th>Sum Victims</th>\n",
       "      <td>-0.114677</td>\n",
       "      <td>-0.142392</td>\n",
       "      <td>0.108143</td>\n",
       "      <td>1.000000</td>\n",
       "      <td>0.186511</td>\n",
       "    </tr>\n",
       "    <tr>\n",
       "      <th>Sum Affected Structures</th>\n",
       "      <td>-0.230698</td>\n",
       "      <td>-0.107184</td>\n",
       "      <td>0.065579</td>\n",
       "      <td>0.186511</td>\n",
       "      <td>1.000000</td>\n",
       "    </tr>\n",
       "  </tbody>\n",
       "</table>\n",
       "</div>"
      ],
      "text/plain": [
       "                          EventID  Complex Type   Acreage  Sum Victims  \\\n",
       "EventID                  1.000000      0.222091 -0.012461    -0.114677   \n",
       "Complex Type             0.222091      1.000000 -0.344415    -0.142392   \n",
       "Acreage                 -0.012461     -0.344415  1.000000     0.108143   \n",
       "Sum Victims             -0.114677     -0.142392  0.108143     1.000000   \n",
       "Sum Affected Structures -0.230698     -0.107184  0.065579     0.186511   \n",
       "\n",
       "                         Sum Affected Structures  \n",
       "EventID                                -0.230698  \n",
       "Complex Type                           -0.107184  \n",
       "Acreage                                 0.065579  \n",
       "Sum Victims                             0.186511  \n",
       "Sum Affected Structures                 1.000000  "
      ]
     },
     "execution_count": 41,
     "metadata": {},
     "output_type": "execute_result"
    }
   ],
   "source": [
    "cleanFireDf.corr(method=\"spearman\")"
   ]
  },
  {
   "cell_type": "markdown",
   "metadata": {},
   "source": [
    "From the Spearman method, we also see certain correlation between Acreage and Sum Victims, althogh values are very low. The correlation between Sum Affected Structures and Acreage is almost unexisting. However the correlation between Acreage and Complex Type is even higher that with Pearson method which could help us reaffirm their relationship."
   ]
  },
  {
   "cell_type": "markdown",
   "metadata": {},
   "source": [
    "Due to the scatter plots' information and the values received from the correlations methods, we feel we cannot confirm hypothesis 2. A more complete data set or a different approach is necessary to be able to contrast data."
   ]
  },
  {
   "cell_type": "markdown",
   "metadata": {},
   "source": [
    "#Doubt1: is it worth in any case converting categorical data into numerical data (assigning a number to each category) in order to see correlations? I am not sure how accurate this would be.. I tried doing this with the NFFL Fuel Model but correlation very low with all other columns when I expected to have much higher correlation, like for instance FuelType vs Acreage, since fire in a specific fuel would spread much quicker than in others (fallen woord vs green trees)."
   ]
  }
 ],
 "metadata": {
  "kernelspec": {
   "display_name": "Python 3",
   "language": "python",
   "name": "python3"
  },
  "language_info": {
   "codemirror_mode": {
    "name": "ipython",
    "version": 3
   },
   "file_extension": ".py",
   "mimetype": "text/x-python",
   "name": "python",
   "nbconvert_exporter": "python",
   "pygments_lexer": "ipython3",
   "version": "3.6.6"
  }
 },
 "nbformat": 4,
 "nbformat_minor": 2
}
