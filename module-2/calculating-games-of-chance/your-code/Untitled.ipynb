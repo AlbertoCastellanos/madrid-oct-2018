{
 "cells": [
  {
   "cell_type": "markdown",
   "metadata": {},
   "source": [
    "# Guided Project: Calculating Probabilities of Games of Chance"
   ]
  },
  {
   "cell_type": "code",
   "execution_count": 5,
   "metadata": {},
   "outputs": [],
   "source": [
    "import scipy\n",
    "import pandas as pd\n",
    "import scipy.special"
   ]
  },
  {
   "cell_type": "markdown",
   "metadata": {},
   "source": [
    "## American Roulette"
   ]
  },
  {
   "cell_type": "code",
   "execution_count": 6,
   "metadata": {},
   "outputs": [
    {
     "name": "stdout",
     "output_type": "stream",
     "text": [
      "Probability = 0.32432432432432434\n",
      "Odds = 0.48000000000000004\n"
     ]
    }
   ],
   "source": [
    "#We are going to calculate the odds of a column bet:\n",
    "\n",
    "#the total number of results is 37 since numbers in the roulette go from 0 to 36 \n",
    "\n",
    "n=37\n",
    "\n",
    "#columns are composed of 12 numbers, so there will be 12 numbers whithin the space that will satisfy our bet:\n",
    "\n",
    "b=12\n",
    "\n",
    "'''\n",
    "roulette games are a one time chance, that means that the combinations are pointless because you only \n",
    "play with one possible outcome. That means that k is equal to 1 and that the number of combinations is \n",
    "equal to the number of values of the space.\n",
    "'''\n",
    "\n",
    "c=scipy.special.comb(n,1)\n",
    "\n",
    "\"\"\"\n",
    "Once we got the total number of combinations we can calculate the probability of a column, we now that there are \n",
    "\"\"\"\n",
    "\n",
    "p=b/c\n",
    "\n",
    "print(\"Probability = \"+str(p))\n",
    "\n",
    "\n",
    "def odds(prob):\n",
    "    return(prob/(1-prob))\n",
    "\n",
    "oddsP=odds(p)\n",
    "\n",
    "\n",
    "\n",
    "print(\"Odds = \"+str(oddsP))"
   ]
  },
  {
   "cell_type": "markdown",
   "metadata": {},
   "source": [
    "## Craps"
   ]
  },
  {
   "cell_type": "code",
   "execution_count": 7,
   "metadata": {},
   "outputs": [
    {
     "name": "stdout",
     "output_type": "stream",
     "text": [
      "Probability = 0.16666666666666666\n",
      "Odds = 0.19999999999999998\n"
     ]
    }
   ],
   "source": [
    "#We are going to calculate the odds of having a 7 when throwing the dices.\n",
    "\n",
    "#The possible number of results is 12, 1 to 6 in each dice\n",
    "\n",
    "n=12\n",
    "comb=0\n",
    "for i in range(1,7):\n",
    "    for n in range(1,7):\n",
    "        if i+n==7:\n",
    "            comb+=1\n",
    " \n",
    "p=1/comb\n",
    "\n",
    "print(\"Probability = \"+str(p))\n",
    "\n",
    "oddsP=odds(p)\n",
    "\n",
    "print(\"Odds = \"+str(oddsP))"
   ]
  },
  {
   "cell_type": "code",
   "execution_count": 24,
   "metadata": {},
   "outputs": [
    {
     "name": "stdout",
     "output_type": "stream",
     "text": [
      "Probability of 7 = 0.16666666666666666\n",
      "Odds of 7 = 0.19999999999999998\n",
      "---------------\n",
      "Probability of 8 = 0.2\n",
      "Odds of 8 = 0.25\n",
      "---------------\n",
      "Probability of 6 = 0.2\n",
      "Odds of 6 = 0.25\n",
      "---------------\n",
      "Probability of 9 = 0.25\n",
      "Odds of 9 = 0.3333333333333333\n",
      "---------------\n",
      "Probability of 5 = 0.25\n",
      "Odds of 5 = 0.3333333333333333\n",
      "---------------\n",
      "Probability of 10 = 0.3333333333333333\n",
      "Odds of 10 = 0.49999999999999994\n",
      "---------------\n",
      "Probability of 4 = 0.3333333333333333\n",
      "Odds of 4 = 0.49999999999999994\n",
      "---------------\n",
      "Probability of 11 = 0.5\n",
      "Odds of 11 = 1.0\n",
      "---------------\n",
      "Probability of 3 = 0.5\n",
      "Odds of 3 = 1.0\n",
      "---------------\n",
      "Probability of 12 = 1.0\n",
      "Odds of 12 = inf\n",
      "---------------\n",
      "Probability of 2 = 1.0\n",
      "Odds of 2 = inf\n",
      "---------------\n"
     ]
    },
    {
     "name": "stderr",
     "output_type": "stream",
     "text": [
      "/home/albertocastellanos/.local/lib/python3.6/site-packages/ipykernel_launcher.py:29: RuntimeWarning: divide by zero encountered in double_scalars\n"
     ]
    }
   ],
   "source": [
    "# We are going to calculate the odds of all possible combinations now:\n",
    "\n",
    "n=12\n",
    "c=0\n",
    "pos=[]\n",
    "for i in range(1,7):\n",
    "    for n in range(1,7):\n",
    "        pos.append(i+n)\n",
    "        \n",
    "poss=pd.Series(pos).value_counts()\n",
    "\n",
    "for i in range(len(poss.index)):\n",
    "    print(\"Probability of %s = %s\"%(str(poss.index[i]),str(1/poss.values[i])))\n",
    "    print(\"Odds of %s = %s\"%(str(poss.index[i]),str(odds((1/poss.values[i])))))\n",
    "    print(\"---------------\")"
   ]
  }
 ],
 "metadata": {
  "kernelspec": {
   "display_name": "Python 3",
   "language": "python",
   "name": "python3"
  },
  "language_info": {
   "codemirror_mode": {
    "name": "ipython",
    "version": 3
   },
   "file_extension": ".py",
   "mimetype": "text/x-python",
   "name": "python",
   "nbconvert_exporter": "python",
   "pygments_lexer": "ipython3",
   "version": "3.6.6"
  }
 },
 "nbformat": 4,
 "nbformat_minor": 2
}
