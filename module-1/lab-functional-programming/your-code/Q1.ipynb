{
 "cells": [
  {
   "cell_type": "markdown",
   "metadata": {},
   "source": [
    "In the cell below, create a Python function that wraps your previous solution for the Bag of Words lab.\n",
    "\n",
    "Requirements:\n",
    "\n",
    "1. Your function should accept the following parameters:\n",
    "    * `docs` [REQUIRED] - array of document paths.\n",
    "    * `stop_words` [OPTIONAL] - array of stop words. The default value is an empty array.\n",
    "\n",
    "1. Your function should return a Python object that contains the following:\n",
    "    * `bag_of_words` - array of strings of normalized unique words in the corpus.\n",
    "    * `term_freq` - array of the term-frequency vectors."
   ]
  },
  {
   "cell_type": "code",
   "execution_count": 11,
   "metadata": {},
   "outputs": [],
   "source": [
    "# Import required libraries\n",
    "\n",
    "# Define function\n",
    "def get_bow_from_docs(docs, stop_words=[]):\n",
    "    \n",
    "    # In the function, first define the variables you will use such as `corpus`, `bag_of_words`, and `term_freq`.\n",
    "    corpus=[]\n",
    "    bag_of_words = []\n",
    "    term_freq=[]\n",
    "    \n",
    "    \n",
    "    \n",
    "   \n",
    "    \n",
    "    \n",
    "\n",
    "    \n",
    "    \"\"\"\n",
    "    Loop `docs` and read the content of each doc into a string in `corpus`.\n",
    "    Remember to convert the doc content to lowercases and remove punctuation.\n",
    "    \"\"\"\n",
    "    corpus=[(open(d, \"r\").read().split(\".\")[0].lower()) for d in docs]    \n",
    "    \n",
    "    \"\"\"\n",
    "    Loop `corpus`. Append the terms in each doc into the `bag_of_words` array. The terms in `bag_of_words` \n",
    "    should be unique which means before adding each term you need to check if it's already added to the array.\n",
    "    In addition, check if each term is in the `stop_words` array. Only append the term to `bag_of_words`\n",
    "    if it is not a stop word.\n",
    "    \"\"\"\n",
    "    [bag_of_words.append(word) for sentence in corpus for word in sentence.split() if word not in stop_words if word not in bag_of_words]\n",
    "      \n",
    "    \"\"\"\n",
    "    Loop `corpus` again. For each doc string, count the number of occurrences of each term in `bag_of_words`. \n",
    "    Create an array for each doc's term frequency and append it to `term_freq`.\n",
    "    \"\"\"\n",
    "    counter0=0\n",
    "    for sentence in corpus:\n",
    "\n",
    "        term_freq.append([])\n",
    "\n",
    "        for word in bag_of_words:\n",
    "            value=0\n",
    "            for term in sentence.split():\n",
    "                \n",
    "                if term==word:\n",
    "                    value=+1\n",
    "            term_freq[counter0].append(value)   \n",
    "        counter0+=1\n",
    "    \n",
    "    \n",
    "    # Now return your output as an object\n",
    "    return {\n",
    "        \"bag_of_words\": bag_of_words,\n",
    "        \"term_freq\": term_freq\n",
    "    }\n",
    "    "
   ]
  },
  {
   "cell_type": "markdown",
   "metadata": {},
   "source": [
    "Test your function without stop words. You should see the output like below:\n",
    "\n",
    "```{'bag_of_words': ['ironhack', 'is', 'cool', 'i', 'love', 'am', 'a', 'student', 'at'], 'term_freq': [[1, 1, 1, 0, 0, 0, 0, 0, 0], [1, 0, 0, 1, 1, 0, 0, 0, 0], [1, 0, 0, 1, 0, 1, 1, 1, 1]]}```"
   ]
  },
  {
   "cell_type": "code",
   "execution_count": 12,
   "metadata": {},
   "outputs": [
    {
     "name": "stdout",
     "output_type": "stream",
     "text": [
      "{'bag_of_words': ['ironhack', 'is', 'cool', 'i', 'love', 'am', 'a', 'student', 'at'], 'term_freq': [[1, 1, 1, 0, 0, 0, 0, 0, 0], [1, 0, 0, 1, 1, 0, 0, 0, 0], [1, 0, 0, 1, 0, 1, 1, 1, 1]]}\n"
     ]
    }
   ],
   "source": [
    "# Define doc paths array\n",
    "docs = ['./doc1.txt', './doc2.txt', './doc3.txt']\n",
    "\n",
    "# Obtain BoW from your function\n",
    "bow = get_bow_from_docs(docs)\n",
    "\n",
    "# Print BoW\n",
    "print(bow)"
   ]
  },
  {
   "cell_type": "markdown",
   "metadata": {},
   "source": [
    "If your attempt above is successful, nice work done!\n",
    "\n",
    "Now test your function again with the stop words. In the previous lab we defined the stop words in a large array. In this lab, we'll import the stop words from Scikit-Learn."
   ]
  },
  {
   "cell_type": "code",
   "execution_count": 13,
   "metadata": {},
   "outputs": [
    {
     "name": "stdout",
     "output_type": "stream",
     "text": [
      "frozenset({'amount', 'after', 'their', 'so', 'have', 'elsewhere', 'against', 'via', 'hers', 'else', 'where', 'during', 'indeed', 'eleven', 're', 'would', 'next', 'due', 'was', 'forty', 'been', 'mill', 'rather', 'anything', 'before', 'done', 'than', 'ltd', 'about', 'much', 'must', 'sixty', 'but', 'for', 'his', 'most', 'except', 'often', 'perhaps', 'across', 'name', 'ourselves', 'down', 'fifty', 'herself', 'something', 'them', 'whereas', 'yourself', 'around', 'what', 'behind', 'between', 'eg', 'meanwhile', 'namely', 'several', 'thick', 'upon', 'hasnt', 'throughout', 'it', 'describe', 'own', 'if', 'be', 'nothing', 'someone', 'cant', 'whom', 'now', 'me', 'part', 'whereby', 'yourselves', 'etc', 'might', 'anyone', 'though', 'only', 'others', 'third', 'whither', 'no', 'from', 'never', 'somehow', 'too', 'toward', 'six', 'am', 'at', 'because', 'five', 'four', 'further', 'on', 'sincere', 'mine', 'noone', 'everyone', 'had', 'onto', 'eight', 'fill', 'hence', 'us', 'that', 'whereafter', 'of', 'they', 'enough', 'anywhere', 'keep', 'nevertheless', 'sometimes', 'still', 'thin', 'becomes', 'nor', 'or', 'fifteen', 'none', 'among', 'such', 'fire', 'seemed', 'whereupon', 'while', 'once', 'not', 'co', 'interest', 'is', 'besides', 'last', 'take', 'ten', 'thence', 'themselves', 'three', 'side', 'another', 'two', 'un', 'myself', 'may', 'always', 'everywhere', 'former', 'formerly', 'found', 'all', 'nobody', 'otherwise', 'back', 'moreover', 'somewhere', 'even', 'has', 'many', 'seeming', 'some', 'hereafter', 'you', 'please', 'each', 'to', 'more', 'our', 'ours', 'therein', 'very', 'into', 'almost', 'nine', 'whatever', 'empty', 'itself', 'become', 'per', 'above', 'either', 'less', 'few', 'full', 'anyhow', 'himself', 'anyway', 'well', 'were', 'hereby', 'those', 'both', 'ie', 'do', 'which', 'nowhere', 'out', 'will', 'within', 'my', 'same', 'here', 'first', 'seem', 'go', 'through', 'one', 'off', 'other', 'should', 'everything', 'alone', 'front', 'i', 'its', 'made', 'became', 'con', 'under', 'herein', 'how', 'by', 'seems', 'an', 'towards', 'beforehand', 'in', 'could', 'least', 'whole', 'we', 'mostly', 'she', 'until', 'whenever', 'put', 'he', 'serious', 'thru', 'wherever', 'her', 'yet', 'again', 'get', 'when', 'as', 'the', 'whose', 'bill', 'every', 'and', 'below', 'a', 'can', 'thereby', 'neither', 'yours', 'together', 'any', 'twenty', 'beyond', 'latter', 'without', 'therefore', 'bottom', 'this', 'whether', 'amoungst', 'sometime', 'thus', 'top', 'system', 'ever', 'thereafter', 'afterwards', 'wherein', 'along', 'cry', 'being', 'however', 'although', 'move', 'over', 'since', 'then', 'call', 'show', 'up', 'why', 'your', 'detail', 'hundred', 'twelve', 'who', 'whoever', 'him', 'cannot', 'inc', 'also', 'there', 'thereupon', 'are', 'beside', 'de', 'latterly', 'already', 'find', 'with', 'becoming', 'amongst', 'couldnt', 'hereupon', 'whence', 'these', 'give', 'see'})\n"
     ]
    }
   ],
   "source": [
    "from sklearn.feature_extraction import stop_words\n",
    "print(stop_words.ENGLISH_STOP_WORDS)"
   ]
  },
  {
   "cell_type": "markdown",
   "metadata": {},
   "source": [
    "You should have seen a large list of words that looks like:\n",
    "\n",
    "```frozenset({'across', 'mine', 'cannot', ...})```\n",
    "\n",
    "`frozenset` is a type of Python object that is immutable. In this lab you can use it just like an array without conversion."
   ]
  },
  {
   "cell_type": "markdown",
   "metadata": {},
   "source": [
    "Next, test your function with supplying `stop_words.ENGLISH_STOP_WORDS` as the second parameter."
   ]
  },
  {
   "cell_type": "code",
   "execution_count": 14,
   "metadata": {},
   "outputs": [
    {
     "name": "stdout",
     "output_type": "stream",
     "text": [
      "{'bag_of_words': ['ironhack', 'cool', 'love', 'student'], 'term_freq': [[1, 1, 0, 0], [1, 0, 1, 0], [1, 0, 0, 1]]}\n"
     ]
    }
   ],
   "source": [
    "bow = get_bow_from_docs(docs, stop_words.ENGLISH_STOP_WORDS)\n",
    "\n",
    "print(bow)"
   ]
  },
  {
   "cell_type": "markdown",
   "metadata": {},
   "source": [
    "You should have seen:\n",
    "\n",
    "```{'bag_of_words': ['ironhack', 'cool', 'love', 'student'], 'term_freq': [[1, 1, 0, 0], [1, 0, 1, 0], [1, 0, 0, 1]]}```"
   ]
  },
  {
   "cell_type": "code",
   "execution_count": null,
   "metadata": {},
   "outputs": [],
   "source": []
  }
 ],
 "metadata": {
  "kernelspec": {
   "display_name": "Python 3",
   "language": "python",
   "name": "python3"
  },
  "language_info": {
   "codemirror_mode": {
    "name": "ipython",
    "version": 3
   },
   "file_extension": ".py",
   "mimetype": "text/x-python",
   "name": "python",
   "nbconvert_exporter": "python",
   "pygments_lexer": "ipython3",
   "version": "3.6.6"
  }
 },
 "nbformat": 4,
 "nbformat_minor": 2
}
